{
 "cells": [
  {
   "cell_type": "code",
   "execution_count": 6,
   "id": "a8bf37dd",
   "metadata": {},
   "outputs": [],
   "source": [
    "import pandas as pd\n",
    "import matplotlib.pyplot as plt\n",
    "import seaborn as sns\n",
    "%matplotlib inline"
   ]
  },
  {
   "cell_type": "code",
   "execution_count": 21,
   "id": "6f2d08fe",
   "metadata": {},
   "outputs": [
    {
     "data": {
      "text/html": [
       "<div>\n",
       "<style scoped>\n",
       "    .dataframe tbody tr th:only-of-type {\n",
       "        vertical-align: middle;\n",
       "    }\n",
       "\n",
       "    .dataframe tbody tr th {\n",
       "        vertical-align: top;\n",
       "    }\n",
       "\n",
       "    .dataframe thead th {\n",
       "        text-align: right;\n",
       "    }\n",
       "</style>\n",
       "<table border=\"1\" class=\"dataframe\">\n",
       "  <thead>\n",
       "    <tr style=\"text-align: right;\">\n",
       "      <th></th>\n",
       "      <th>area</th>\n",
       "      <th>rooms</th>\n",
       "      <th>bathroom</th>\n",
       "      <th>parking spaces</th>\n",
       "      <th>hoa (R$)</th>\n",
       "      <th>rent amount (R$)</th>\n",
       "      <th>property tax (R$)</th>\n",
       "      <th>fire insurance (R$)</th>\n",
       "      <th>total (R$)</th>\n",
       "    </tr>\n",
       "  </thead>\n",
       "  <tbody>\n",
       "    <tr>\n",
       "      <th>count</th>\n",
       "      <td>8204.000000</td>\n",
       "      <td>8204.000000</td>\n",
       "      <td>8204.000000</td>\n",
       "      <td>8204.000000</td>\n",
       "      <td>8.204000e+03</td>\n",
       "      <td>8204.000000</td>\n",
       "      <td>8204.000000</td>\n",
       "      <td>8204.000000</td>\n",
       "      <td>8.204000e+03</td>\n",
       "    </tr>\n",
       "    <tr>\n",
       "      <th>mean</th>\n",
       "      <td>83.148586</td>\n",
       "      <td>2.116529</td>\n",
       "      <td>1.702828</td>\n",
       "      <td>1.063262</td>\n",
       "      <td>9.941054e+02</td>\n",
       "      <td>2741.332277</td>\n",
       "      <td>200.088981</td>\n",
       "      <td>36.510605</td>\n",
       "      <td>3.972246e+03</td>\n",
       "    </tr>\n",
       "    <tr>\n",
       "      <th>std</th>\n",
       "      <td>43.455041</td>\n",
       "      <td>0.919707</td>\n",
       "      <td>0.895319</td>\n",
       "      <td>0.991993</td>\n",
       "      <td>1.746632e+04</td>\n",
       "      <td>2145.713594</td>\n",
       "      <td>3485.198438</td>\n",
       "      <td>28.121018</td>\n",
       "      <td>1.801044e+04</td>\n",
       "    </tr>\n",
       "    <tr>\n",
       "      <th>min</th>\n",
       "      <td>11.000000</td>\n",
       "      <td>1.000000</td>\n",
       "      <td>1.000000</td>\n",
       "      <td>0.000000</td>\n",
       "      <td>0.000000e+00</td>\n",
       "      <td>450.000000</td>\n",
       "      <td>0.000000</td>\n",
       "      <td>3.000000</td>\n",
       "      <td>4.990000e+02</td>\n",
       "    </tr>\n",
       "    <tr>\n",
       "      <th>25%</th>\n",
       "      <td>50.000000</td>\n",
       "      <td>1.000000</td>\n",
       "      <td>1.000000</td>\n",
       "      <td>0.000000</td>\n",
       "      <td>2.700000e+02</td>\n",
       "      <td>1310.000000</td>\n",
       "      <td>25.000000</td>\n",
       "      <td>18.000000</td>\n",
       "      <td>1.803750e+03</td>\n",
       "    </tr>\n",
       "    <tr>\n",
       "      <th>50%</th>\n",
       "      <td>71.000000</td>\n",
       "      <td>2.000000</td>\n",
       "      <td>1.000000</td>\n",
       "      <td>1.000000</td>\n",
       "      <td>5.500000e+02</td>\n",
       "      <td>2100.000000</td>\n",
       "      <td>84.000000</td>\n",
       "      <td>28.000000</td>\n",
       "      <td>2.800000e+03</td>\n",
       "    </tr>\n",
       "    <tr>\n",
       "      <th>75%</th>\n",
       "      <td>110.000000</td>\n",
       "      <td>3.000000</td>\n",
       "      <td>2.000000</td>\n",
       "      <td>2.000000</td>\n",
       "      <td>1.000000e+03</td>\n",
       "      <td>3300.000000</td>\n",
       "      <td>206.000000</td>\n",
       "      <td>45.000000</td>\n",
       "      <td>4.547000e+03</td>\n",
       "    </tr>\n",
       "    <tr>\n",
       "      <th>max</th>\n",
       "      <td>199.000000</td>\n",
       "      <td>7.000000</td>\n",
       "      <td>7.000000</td>\n",
       "      <td>10.000000</td>\n",
       "      <td>1.117000e+06</td>\n",
       "      <td>24000.000000</td>\n",
       "      <td>313700.000000</td>\n",
       "      <td>305.000000</td>\n",
       "      <td>1.120000e+06</td>\n",
       "    </tr>\n",
       "  </tbody>\n",
       "</table>\n",
       "</div>"
      ],
      "text/plain": [
       "              area        rooms     bathroom  parking spaces      hoa (R$)  \\\n",
       "count  8204.000000  8204.000000  8204.000000     8204.000000  8.204000e+03   \n",
       "mean     83.148586     2.116529     1.702828        1.063262  9.941054e+02   \n",
       "std      43.455041     0.919707     0.895319        0.991993  1.746632e+04   \n",
       "min      11.000000     1.000000     1.000000        0.000000  0.000000e+00   \n",
       "25%      50.000000     1.000000     1.000000        0.000000  2.700000e+02   \n",
       "50%      71.000000     2.000000     1.000000        1.000000  5.500000e+02   \n",
       "75%     110.000000     3.000000     2.000000        2.000000  1.000000e+03   \n",
       "max     199.000000     7.000000     7.000000       10.000000  1.117000e+06   \n",
       "\n",
       "       rent amount (R$)  property tax (R$)  fire insurance (R$)    total (R$)  \n",
       "count       8204.000000        8204.000000          8204.000000  8.204000e+03  \n",
       "mean        2741.332277         200.088981            36.510605  3.972246e+03  \n",
       "std         2145.713594        3485.198438            28.121018  1.801044e+04  \n",
       "min          450.000000           0.000000             3.000000  4.990000e+02  \n",
       "25%         1310.000000          25.000000            18.000000  1.803750e+03  \n",
       "50%         2100.000000          84.000000            28.000000  2.800000e+03  \n",
       "75%         3300.000000         206.000000            45.000000  4.547000e+03  \n",
       "max        24000.000000      313700.000000           305.000000  1.120000e+06  "
      ]
     },
     "execution_count": 21,
     "metadata": {},
     "output_type": "execute_result"
    }
   ],
   "source": [
    "df = pd.read_csv('https://d11s0xq1vqg039.cloudfront.net/videos_conteudo/visual/micro05/oficina/arquivos/dadosoficina05.txt')\n",
    "df.describe()"
   ]
  },
  {
   "cell_type": "code",
   "execution_count": 38,
   "id": "ef82c5b1",
   "metadata": {},
   "outputs": [
    {
     "data": {
      "image/png": "[encoded data removed]",
      "text/plain": [
       "<Figure size 720x360 with 1 Axes>"
      ]
     },
     "metadata": {},
     "output_type": "display_data"
    },
    {
     "name": "stdout",
     "output_type": "stream",
     "text": [
      "A faixa de valor mais comum é aquela inferior a R$2500. \n"
     ]
    }
   ],
   "source": [
    "plt.figure(figsize=(10,5))\n",
    "plt.title('Distribuição dos valores de aluguel de imóveis')\n",
    "plt.ylabel('Quantidade de imóveis')\n",
    "plt.xlabel('Valor dos imóveis')\n",
    "plt.hist(df['rent amount (R$)'])\n",
    "plt.show()\n",
    "print('A faixa de valor mais comum é aquela inferior a R$2500. ')\n"
   ]
  },
  {
   "cell_type": "code",
   "execution_count": 42,
   "id": "11fc613c",
   "metadata": {},
   "outputs": [
    {
     "data": {
      "image/png": "[encoded data removed]",
      "text/plain": [
       "<Figure size 720x360 with 1 Axes>"
      ]
     },
     "metadata": {},
     "output_type": "display_data"
    },
    {
     "name": "stdout",
     "output_type": "stream",
     "text": [
      "Valores de seguro contra incêndio superiores a R$200 são incomuns.  \n"
     ]
    }
   ],
   "source": [
    "plt.figure(figsize=(10,5))\n",
    "plt.title('Distribuição dos valores de seguro contra incêndio')\n",
    "plt.ylabel('Quantidade de imóveis')\n",
    "plt.xlabel('Valor do seguro')\n",
    "plt.hist(df['fire insurance (R$)'])\n",
    "plt.show()\n",
    "print('Valores de seguro contra incêndio superiores a R$200 são incomuns.  ')"
   ]
  },
  {
   "cell_type": "code",
   "execution_count": null,
   "id": "831453ec",
   "metadata": {},
   "outputs": [],
   "source": []
  }
 ],
 "metadata": {
  "kernelspec": {
   "display_name": "Python 3",
   "language": "python",
   "name": "python3"
  },
  "language_info": {
   "codemirror_mode": {
    "name": "ipython",
    "version": 3
   },
   "file_extension": ".py",
   "mimetype": "text/x-python",
   "name": "python",
   "nbconvert_exporter": "python",
   "pygments_lexer": "ipython3",
   "version": "3.8.8"
  }
 },
 "nbformat": 4,
 "nbformat_minor": 5
}
