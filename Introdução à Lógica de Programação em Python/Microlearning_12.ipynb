{
 "cells": [
  {
   "cell_type": "code",
   "execution_count": null,
   "id": "b62988ad",
   "metadata": {},
   "outputs": [],
   "source": [
    "class Animal:\n",
    "# Se fome = 0 o animal está sem fome. 1 significa um pouquinho de fome, 2 um pouco mais e assim por diante.\n",
    "    def __init__(self, nome, especie,fome=0):\n",
    "        self.nome = nome\n",
    "        self.especie = especie\n",
    "        self.fome = fome\n",
    "        \n",
    "    def __str__(self):\n",
    "        return f'{self.nome} está com {self.fome} de fome.\\n'\n",
    "    \n",
    "    def andar(self):\n",
    "        self.fome += 1\n",
    "        print(f'Você andou com {self.nome} e a fome dele foi alterada para {self.fome}\\n')\n",
    "        \n",
    "    def comer(self,unidades_comida):\n",
    "        if self.fome < unidades_comida:\n",
    "            self.fome = 0\n",
    "            print(f'{self.nome} comeu até estar saciado e deixou comida no prato.')\n",
    "            raise Exception(f'Você deu comida demais para o {self.nome}!\\n')\n",
    "        else:\n",
    "            self.fome -= unidades_comida\n",
    "            print('\\n')\n",
    "        \n",
    "animal = Animal('Rex', 'cachorro')\n",
    "op = 0\n",
    "\n",
    "print(f'Olá! Meu nome é {animal.nome}! \\nInforme o número da opção desejada :) \\n')\n",
    "print(f'''1 - Alimentar {animal.nome} \n",
    "2 - Andar com {animal.nome}\n",
    "3 - Mostrar o estado atual de {animal.nome}\n",
    "4 - Finalizar a execução \\n''')\n",
    "    \n",
    "while op != 4:\n",
    "    op = int(input('Digite a opção desejada: '))\n",
    "    if op == 1:\n",
    "        unidades_comida = int(input(f'Digite quanto de comida deseja dar para o {animal.nome}: '))\n",
    "        try:\n",
    "            animal.comer(unidades_comida)\n",
    "        except Exception as excp:\n",
    "            print(excp)\n",
    "    elif op == 2:\n",
    "        animal.andar()\n",
    "    elif op == 3: \n",
    "        print(f'Estado atual: {animal}') \n",
    "    else:\n",
    "        print('Isso foi divertido! Espero que você volte logo :D\\n')"
   ]
  },
  {
   "cell_type": "code",
   "execution_count": null,
   "id": "4555bffc",
   "metadata": {},
   "outputs": [],
   "source": []
  }
 ],
 "metadata": {
  "kernelspec": {
   "display_name": "Python 3",
   "language": "python",
   "name": "python3"
  },
  "language_info": {
   "codemirror_mode": {
    "name": "ipython",
    "version": 3
   },
   "file_extension": ".py",
   "mimetype": "text/x-python",
   "name": "python",
   "nbconvert_exporter": "python",
   "pygments_lexer": "ipython3",
   "version": "3.8.8"
  }
 },
 "nbformat": 4,
 "nbformat_minor": 5
}
