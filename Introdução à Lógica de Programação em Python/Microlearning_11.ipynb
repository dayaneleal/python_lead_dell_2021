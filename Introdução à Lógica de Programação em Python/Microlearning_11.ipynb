{
 "cells": [
  {
   "cell_type": "code",
   "execution_count": 11,
   "id": "dfac4e68",
   "metadata": {},
   "outputs": [],
   "source": [
    "agenda = [\n",
    "\n",
    "  ((2020, 1, 13), (11, 50), 'Renovar identidade'),\n",
    "\n",
    "  ((2020, 1, 15), (16, 30), 'Fazer compras'),\n",
    "\n",
    "  ((2020, 1, 25), (8, 45), 'Autenticar documentos'),\n",
    "\n",
    "  ((2020, 2, 29), (14, 15), 'Prestar concurso'),\n",
    "\n",
    "  ((2020, 3, 15), (17, 50), 'Buscar bolo pro aniversário da vovó'),\n",
    "\n",
    "  ((2020, 3, 17), (13, 20), 'Consulta de revisão com dentista'),\n",
    "]"
   ]
  },
  {
   "cell_type": "code",
   "execution_count": 29,
   "id": "81c8e8a6",
   "metadata": {},
   "outputs": [
    {
     "name": "stdout",
     "output_type": "stream",
     "text": [
      "15/jan/2020 - 16:30: Fazer compras\n",
      "\n",
      "25/jan/2020 - 8:45: Autenticar documentos\n",
      "\n",
      "29/fev/2020 - 14:15: Prestar concurso\n",
      "\n",
      "15/mar/2020 - 17:50: Buscar bolo pro aniversário da vovó\n",
      "\n",
      "17/mar/2020 - 13:20: Consulta de revisão com dentista\n",
      "\n"
     ]
    }
   ],
   "source": [
    "def imprimir_eventos(eventos, de_data=(1, 1, 1), ate_data=(9999, 12, 31)):\n",
    "    for compromissos in agenda: \n",
    "        if compromissos[0] >= de_data and compromissos[0] <= ate_data:\n",
    "            print(formatar_data(*compromissos[0]) + ' - ' + formatar_horas(*compromissos[1]) + ': ' + compromissos[2] + '\\n')\n",
    "    \n",
    "def formatar_data(ano, mes, dia):\n",
    "    meses = [ 'jan', 'fev', 'mar', 'abr', 'mai'\n",
    "            'jun', 'jul', 'ago', 'set', 'out'\n",
    "            'nov', 'dez'\n",
    "            ]\n",
    "    \n",
    "    mes = meses[mes - 1]\n",
    "    return str(dia) + '/' + mes + '/' + str(ano)\n",
    "\n",
    "def formatar_horas(horas, minutos):\n",
    "    return str(horas) + ':' + str(minutos)\n",
    "\n",
    "\n",
    "imprimir_eventos(agenda, (2020,1,15), (2020, 3,17))\n"
   ]
  },
  {
   "cell_type": "code",
   "execution_count": null,
   "id": "0ecea44f",
   "metadata": {},
   "outputs": [],
   "source": []
  }
 ],
 "metadata": {
  "kernelspec": {
   "display_name": "Python 3",
   "language": "python",
   "name": "python3"
  },
  "language_info": {
   "codemirror_mode": {
    "name": "ipython",
    "version": 3
   },
   "file_extension": ".py",
   "mimetype": "text/x-python",
   "name": "python",
   "nbconvert_exporter": "python",
   "pygments_lexer": "ipython3",
   "version": "3.8.8"
  }
 },
 "nbformat": 4,
 "nbformat_minor": 5
}
