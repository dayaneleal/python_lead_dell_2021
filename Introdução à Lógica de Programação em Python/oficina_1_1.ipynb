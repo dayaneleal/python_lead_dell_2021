{
 "cells": [
  {
   "cell_type": "code",
   "execution_count": 1,
   "id": "1609e217",
   "metadata": {},
   "outputs": [],
   "source": [
    "notas_rock = [5, 1, 4, 0, 2, 5, 2, 1, 0, 5, 5, 3, 5, 2, 5, 5, 3, 5, 4, 4]\n",
    "\n",
    "notas_pop = [3, 2, 5, 1, 2, 1, 4, 1, 5, 0, 4, 2, 1, 2, 5, 2, 4, 4, 0, 1]\n"
   ]
  },
  {
   "cell_type": "code",
   "execution_count": 4,
   "id": "e08dd341",
   "metadata": {},
   "outputs": [
    {
     "name": "stdout",
     "output_type": "stream",
     "text": [
      "Existem 11 músicas de Rock avaliadas como boas, 5 medianas e 4 ruins.\n",
      "Existem 7 músicas de Pop avaliadas como boas, 6 medianas e 7 ruins.\n",
      "Existem músicas medianas de rock.\n",
      "Nem todas as músicas pop são boas.\n",
      "Existem mais músicas boas de Rock do que de Pop.\n"
     ]
    }
   ],
   "source": [
    "def categorias(notas):\n",
    "    if 0 <= notas <= 1:\n",
    "        return 'ruim'\n",
    "    elif 2 <= notas <= 3:\n",
    "        return 'mediana'\n",
    "    else:\n",
    "        return 'boa'\n",
    "    \n",
    "avaliacao_rock = list(map(categorias,notas_rock))\n",
    "avaliacao_pop = list(map(categorias,notas_pop))\n",
    "\n",
    "rock_bons = list(filter(lambda x: x == 'boa',avaliacao_rock))\n",
    "rock_mediano = list(filter(lambda x: x == 'mediana',avaliacao_rock))\n",
    "rock_ruim = list(filter(lambda x: x == 'ruim',avaliacao_rock))\n",
    "\n",
    "pop_bons = list(filter(lambda x: x == 'boa',avaliacao_pop))\n",
    "pop_mediano = list(filter(lambda x: x == 'mediana',avaliacao_pop))\n",
    "pop_ruim = list(filter(lambda x: x == 'ruim',avaliacao_pop))\n",
    "\n",
    "\n",
    "print(f'Existem {len(rock_bons)} músicas de Rock avaliadas como boas, {len(rock_mediano)} medianas e {len(rock_ruim)} ruins.')\n",
    "print(f'Existem {len(pop_bons)} músicas de Pop avaliadas como boas, {len(pop_mediano)} medianas e {len(pop_ruim)} ruins.')\n",
    "\n",
    "rock_mediano_boleano = list(map(lambda x: x=='mediana', avaliacao_rock))\n",
    "pop_boas_boleano = list(map(lambda x: x=='boa', avaliacao_pop))\n",
    "\n",
    "if any(rock_mediano_boleano):\n",
    "    print('Existem músicas medianas de rock.')\n",
    "if not all(pop_boas_boleano):\n",
    "    print('Nem todas as músicas pop são boas.')\n",
    "    \n",
    "if len(rock_bons) > len(pop_bons):\n",
    "    print('Existem mais músicas boas de Rock do que de Pop.')\n",
    "else:\n",
    "    print('Existem mais músicas boas de Pop do que de Rock.')"
   ]
  },
  {
   "cell_type": "code",
   "execution_count": null,
   "id": "4043d0e6",
   "metadata": {},
   "outputs": [],
   "source": []
  }
 ],
 "metadata": {
  "kernelspec": {
   "display_name": "Python 3",
   "language": "python",
   "name": "python3"
  },
  "language_info": {
   "codemirror_mode": {
    "name": "ipython",
    "version": 3
   },
   "file_extension": ".py",
   "mimetype": "text/x-python",
   "name": "python",
   "nbconvert_exporter": "python",
   "pygments_lexer": "ipython3",
   "version": "3.8.8"
  }
 },
 "nbformat": 4,
 "nbformat_minor": 5
}
