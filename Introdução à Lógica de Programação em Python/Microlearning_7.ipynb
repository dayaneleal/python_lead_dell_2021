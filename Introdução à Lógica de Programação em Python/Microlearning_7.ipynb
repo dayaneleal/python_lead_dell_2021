{
 "cells": [
  {
   "cell_type": "code",
   "execution_count": 1,
   "id": "6327af37",
   "metadata": {},
   "outputs": [
    {
     "name": "stdout",
     "output_type": "stream",
     "text": [
      "Engenharia de Software possui 12 votos. Isso representa 30.0 % do total.\n",
      "\n",
      "Python para Data Sciente possui 20 votos. Isso representa 50.0 % do total.\n",
      "\n",
      "Introdução a Java possui 8 votos. Isso representa 20.0 % do total.\n",
      "\n"
     ]
    }
   ],
   "source": [
    "cursos = [\n",
    "    'Engenharia de Software',\n",
    "    'Python para Data Sciente',\n",
    "    'Introdução a Java'\n",
    "]\n",
    "\n",
    "respostas = [ 1, 2, 0, 1, 1, 1, 1, 0, 0, 2, 2, 0, 1, 1,\n",
    "  1, 1, 2, 0, 1, 1, 0, 1, 0, 2, 1, 1, 0, 2,\n",
    "  2, 1, 0, 1, 1, 0, 0, 0, 1, 1, 2, 1\n",
    "]\n",
    "\n",
    "contagem = []\n",
    "percentual = []\n",
    "\n",
    "num_colegas = len(respostas)\n",
    "\n",
    "for i in range(len(cursos)): \n",
    "    total = respostas.count(i)\n",
    "    contagem.append(total)\n",
    "    percentual.append((total / num_colegas)*100)\n",
    "    print(cursos[i], 'possui', contagem[i], 'votos.', 'Isso representa',percentual[i],'% do total.\\n')"
   ]
  },
  {
   "cell_type": "code",
   "execution_count": null,
   "id": "aca161b2",
   "metadata": {},
   "outputs": [],
   "source": []
  },
  {
   "cell_type": "code",
   "execution_count": null,
   "id": "10700870",
   "metadata": {},
   "outputs": [],
   "source": []
  }
 ],
 "metadata": {
  "kernelspec": {
   "display_name": "Python 3",
   "language": "python",
   "name": "python3"
  },
  "language_info": {
   "codemirror_mode": {
    "name": "ipython",
    "version": 3
   },
   "file_extension": ".py",
   "mimetype": "text/x-python",
   "name": "python",
   "nbconvert_exporter": "python",
   "pygments_lexer": "ipython3",
   "version": "3.8.8"
  }
 },
 "nbformat": 4,
 "nbformat_minor": 5
}
