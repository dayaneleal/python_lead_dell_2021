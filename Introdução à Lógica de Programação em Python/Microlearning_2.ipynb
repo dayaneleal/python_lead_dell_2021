{
 "cells": [
  {
   "cell_type": "markdown",
   "id": "65f06672",
   "metadata": {},
   "source": [
    "O programa deve receber como entrada de dados o nome da pessoa, idade, o peso e a altura."
   ]
  },
  {
   "cell_type": "code",
   "execution_count": 1,
   "id": "3d99ed16",
   "metadata": {},
   "outputs": [
    {
     "name": "stdout",
     "output_type": "stream",
     "text": [
      "Digite o seu nome: Dayane\n",
      "Digite a sua idade: 29\n",
      "Digite o seu peso: 51\n",
      "Digite a sua altura: 1.64\n"
     ]
    }
   ],
   "source": [
    "nome = input('Digite o seu nome: ')\n",
    "idade = input('Digite a sua idade: ')\n",
    "peso = float(input('Digite o seu peso: '))\n",
    "altura = float(input('Digite a sua altura: '))"
   ]
  },
  {
   "cell_type": "markdown",
   "id": "bd59d564",
   "metadata": {},
   "source": [
    "Com os dados digitados acima calcular o Índice de Massa Corporal (IMC)"
   ]
  },
  {
   "cell_type": "code",
   "execution_count": 2,
   "id": "ee2dc8f1",
   "metadata": {},
   "outputs": [],
   "source": [
    "altura_ao_quadrado = altura * altura\n",
    "imc = peso / altura_ao_quadrado"
   ]
  },
  {
   "cell_type": "markdown",
   "id": "b42a4365",
   "metadata": {},
   "source": [
    "O valor do IMC deve ser impresso na tela:"
   ]
  },
  {
   "cell_type": "code",
   "execution_count": 11,
   "id": "4ce4394c",
   "metadata": {},
   "outputs": [
    {
     "name": "stdout",
     "output_type": "stream",
     "text": [
      "Dayane o seu IMC é de: 18.961927424152293\n"
     ]
    }
   ],
   "source": [
    "print(nome,'o seu IMC é de:',imc)"
   ]
  }
 ],
 "metadata": {
  "kernelspec": {
   "display_name": "Python 3",
   "language": "python",
   "name": "python3"
  },
  "language_info": {
   "codemirror_mode": {
    "name": "ipython",
    "version": 3
   },
   "file_extension": ".py",
   "mimetype": "text/x-python",
   "name": "python",
   "nbconvert_exporter": "python",
   "pygments_lexer": "ipython3",
   "version": "3.8.8"
  }
 },
 "nbformat": 4,
 "nbformat_minor": 5
}
