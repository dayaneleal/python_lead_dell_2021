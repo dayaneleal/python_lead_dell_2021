{
 "cells": [
  {
   "cell_type": "markdown",
   "id": "80e857b3",
   "metadata": {},
   "source": [
    "1.Criamos um loop para testar todo os números entre 2 e 100.\n",
    "\n",
    "2.Em seguida utilizamos um for aninhado para testar as condições necessárias para um número ser primo.\n",
    "\n",
    "3.Todo número, seja primo ou não é divisível por ele mesmo e terá como resto da divisão 0. Portanto, quando essa condição for satisfeita (o número ser igual a ele mesmo) simplesmente interromperemos a execução do ciclo com continue.\n",
    "\n",
    "4.Um número será primo se, para todo número N entre 2 e X – 1, o resto da divisão entre X e N for diferente de 0.\n",
    "No entanto, é mais fácil determinar quais os números não primos e interromper o laço de repetição quando a condição for satisfeita.\n",
    "\n",
    "5.Atribuimos a 'num' o número não primo. Assim, ao comparar 'num' com os números entre 2 e 100 obteremos os números primos."
   ]
  },
  {
   "cell_type": "code",
   "execution_count": 1,
   "id": "688e164b",
   "metadata": {},
   "outputs": [
    {
     "name": "stdout",
     "output_type": "stream",
     "text": [
      "2\n",
      "3\n",
      "5\n",
      "7\n",
      "11\n",
      "13\n",
      "17\n",
      "19\n",
      "23\n",
      "29\n",
      "31\n",
      "37\n",
      "41\n",
      "43\n",
      "47\n",
      "53\n",
      "59\n",
      "61\n",
      "67\n",
      "71\n",
      "73\n",
      "79\n",
      "83\n",
      "89\n",
      "97\n"
     ]
    }
   ],
   "source": [
    "num = 0\n",
    "\n",
    "for x in range(2,101):\n",
    "    for n in range(2,101):\n",
    "        if x == n:\n",
    "            continue\n",
    "        if x % n == 0: \n",
    "            num = x\n",
    "            break\n",
    "    if num != x:\n",
    "        print(x)"
   ]
  },
  {
   "cell_type": "code",
   "execution_count": null,
   "id": "0567639b",
   "metadata": {},
   "outputs": [],
   "source": []
  }
 ],
 "metadata": {
  "kernelspec": {
   "display_name": "Python 3",
   "language": "python",
   "name": "python3"
  },
  "language_info": {
   "codemirror_mode": {
    "name": "ipython",
    "version": 3
   },
   "file_extension": ".py",
   "mimetype": "text/x-python",
   "name": "python",
   "nbconvert_exporter": "python",
   "pygments_lexer": "ipython3",
   "version": "3.8.8"
  }
 },
 "nbformat": 4,
 "nbformat_minor": 5
}
