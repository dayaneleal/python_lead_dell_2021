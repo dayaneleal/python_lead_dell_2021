{
 "cells": [
  {
   "cell_type": "code",
   "execution_count": 10,
   "id": "41ce1882",
   "metadata": {},
   "outputs": [],
   "source": [
    "log = '''2020-05-10 20:42:54,687 | INFO -> O programa foi iniciado\n",
    "2020-05-11 00:09:52,532 | ERROR -> Erro não esperado\n",
    "2020-05-11 09:01:10,812 | INFO -> O usuário utilizou o sistema\n",
    "2020-05-11 19:06:13,609 | INFO -> O usuário utilizou o sistema\n",
    "2020-05-11 20:46:35,271 | ERROR -> Erro não esperado\n",
    "2020-05-12 08:14:59,895 | ERROR -> Erro não esperado\n",
    "2020-05-12 11:33:59,700 | INFO -> O ulog = 2020-05-10 20:42:54,687 | Isuário utilizou o sistema\n",
    "2020-05-13 10:20:14,673 | INFO -> O usuário utilizou o sistema\n",
    "2020-05-13 16:58:10,298 | WARNING -> O usuário tentou fazer uma operação invalida\n",
    "2020-05-14 03:55:25,383 | INFO -> O usuário utilizou o sistema\n",
    "2020-05-15 02:59:29,002 | INFO -> O usuário utilizou o sistema\n",
    "2020-05-15 08:40:33,776 | ERROR -> Erro não esperado\n",
    "2020-05-15 13:45:29,089 | WARNING -> O usuário tentou fazer uma operação invalida'''"
   ]
  },
  {
   "cell_type": "code",
   "execution_count": 11,
   "id": "536fec2d",
   "metadata": {},
   "outputs": [],
   "source": [
    "import re\n",
    "\n",
    "# info = list(re.findall(r'[0-9]{2}\\W[0-9]{2}\\W[0-9]{2}\\W[0-9]{3}\\s\\W\\s[I][N][F][O]', log))\n",
    "# warning = list(re.findall(r'[0-9]{2}\\W[0-9]{2}\\W[0-9]{2}\\W[0-9]{3}\\s\\W\\s[W][A][R][N][I][N][G]', log))\n",
    "\n",
    "error = list(re.findall(r'\\s[0-9]{2}\\W[0-9]{2}\\W[0-9]{2}\\W[0-9]{3}\\s\\W\\s[E][R][R][O][R]', log))\n",
    "\n",
    "def horario_com_maior_num_erros(error):\n",
    "    time_error=[]\n",
    "    for i in range(len(error)):\n",
    "        time_error  += re.findall(r'\\s[0-9]{2}[:]',error[i])\n",
    "\n",
    "    time = []\n",
    "    for i in time_error:\n",
    "        valor = i.lstrip(' ').rstrip(':')\n",
    "        time.append(int(valor))\n",
    "\n",
    "    horarios = []\n",
    "    for i in range(24):\n",
    "        horarios.append(time.count(i))\n",
    "\n",
    "    return max(range(len(horarios)), key=lambda i: horarios[i])\n",
    "\n",
    "hora = horario_com_maior_num_erros(error)"
   ]
  },
  {
   "cell_type": "code",
   "execution_count": 13,
   "id": "52f70dd3",
   "metadata": {},
   "outputs": [
    {
     "name": "stdout",
     "output_type": "stream",
     "text": [
      "Ocorreram 4 erros.\n",
      "O horario que mais gerou erros foi o das 8 horas.\n"
     ]
    }
   ],
   "source": [
    "print(f'Ocorreram {len(error)} erros.')\n",
    "\n",
    "print(f'O horario que mais gerou erros foi o das {hora} horas.')"
   ]
  }
 ],
 "metadata": {
  "kernelspec": {
   "display_name": "Python 3",
   "language": "python",
   "name": "python3"
  },
  "language_info": {
   "codemirror_mode": {
    "name": "ipython",
    "version": 3
   },
   "file_extension": ".py",
   "mimetype": "text/x-python",
   "name": "python",
   "nbconvert_exporter": "python",
   "pygments_lexer": "ipython3",
   "version": "3.8.8"
  }
 },
 "nbformat": 4,
 "nbformat_minor": 5
}
