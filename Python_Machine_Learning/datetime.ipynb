{
 "cells": [
  {
   "cell_type": "code",
   "execution_count": 241,
   "id": "44294699",
   "metadata": {},
   "outputs": [],
   "source": [
    "import locale\n",
    "from datetime import datetime, date\n",
    "\n",
    "locale.setlocale(locale.LC_ALL, 'pt_BR')\n",
    "\n",
    "aniversarios = ['01/02/1990', '22 de Maio de 1991', '04/Abr/1995', '1995-Outubro-10', '12 Julho 1989', '16 de Junho de 1987', '04/07/1990']"
   ]
  },
  {
   "cell_type": "code",
   "execution_count": 242,
   "id": "6f7c93ca",
   "metadata": {},
   "outputs": [
    {
     "name": "stdout",
     "output_type": "stream",
     "text": [
      "A seguir a lista de aniversários organizadas por ordem no ano: \n",
      "['01-02-1990', '04-04-1995', '22-05-1991', '16-06-1987', '04-07-1990', '12-07-1989', '10-10-1995']\n"
     ]
    }
   ],
   "source": [
    "def conversao(data):\n",
    "    novas_datas = []\n",
    "    for i in data:\n",
    "        for formato in ('%d/%m/%Y', '%d de %m de %Y', '%d/%b/%Y','%Y-%B-%d', '%d %B %Y', '%d de %B de %Y'): \n",
    "            try:\n",
    "                data_convertida = datetime.strptime(i, formato)\n",
    "                novas_datas.append(data_convertida)\n",
    "            except ValueError:\n",
    "                continue\n",
    "    return novas_datas\n",
    "\n",
    "def organizar(datas):\n",
    "    novas_datas_organizadas = sorted(datas, key=lambda x: (x.month, x.day))\n",
    "    data = list(map(lambda i : i.strftime(\"%d-%m-%Y\"),novas_datas_organizadas))\n",
    "    print(f'A seguir a lista de aniversários organizadas por ordem no ano: \\n{data}')\n",
    "\n",
    "def verificar(datas):\n",
    "    hoje = datetime.today()\n",
    "    for i in datas:\n",
    "        if i.day == hoje.day and i.month == hoje.month:\n",
    "            print(datetime.today().strftime('Hoje, %A %d de %B de %Y, tem aniversário!'))\n",
    "\n",
    "datas_padronizadas = conversao(aniversarios)\n",
    "data_organizada = organizar(datas_padronizadas)\n",
    "verificar(datas_padronizadas)"
   ]
  }
 ],
 "metadata": {
  "kernelspec": {
   "display_name": "Python 3",
   "language": "python",
   "name": "python3"
  },
  "language_info": {
   "codemirror_mode": {
    "name": "ipython",
    "version": 3
   },
   "file_extension": ".py",
   "mimetype": "text/x-python",
   "name": "python",
   "nbconvert_exporter": "python",
   "pygments_lexer": "ipython3",
   "version": "3.8.8"
  }
 },
 "nbformat": 4,
 "nbformat_minor": 5
}
