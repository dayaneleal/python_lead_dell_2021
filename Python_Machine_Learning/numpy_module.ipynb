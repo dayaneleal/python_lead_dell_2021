{
 "cells": [
  {
   "cell_type": "code",
   "execution_count": 33,
   "id": "4c3a59a9",
   "metadata": {},
   "outputs": [
    {
     "data": {
      "text/plain": [
       "'pt_BR'"
      ]
     },
     "execution_count": 33,
     "metadata": {},
     "output_type": "execute_result"
    }
   ],
   "source": [
    "import numpy as np\n",
    "import locale\n",
    "from datetime import datetime\n",
    "locale.setlocale(locale.LC_ALL, 'pt_BR')"
   ]
  },
  {
   "cell_type": "code",
   "execution_count": 43,
   "id": "b923a52e",
   "metadata": {},
   "outputs": [
    {
     "name": "stdout",
     "output_type": "stream",
     "text": [
      "(10,)\n",
      "[3795 4268 3413 2858 3046 3263 3101 3557 3226 2557]\n",
      "4268\n",
      "499\n",
      "[358 499 480 461 384 439 452 496 498 483 468 451]\n",
      "[499 468 496 480 381 450 498 461 439 432]\n",
      "[2011 2012 2013 2014 2015 2016 2017 2018 2019 2020]\n",
      "[ 1 10  7  2  2 10  8  3  5  6]\n",
      "1\n",
      "499\n",
      "A maior venda de 2011 ocorreu no mês de Fevereiro e foi de 499 computadores\n",
      "10\n",
      "468\n",
      "A maior venda de 2012 ocorreu no mês de Novembro e foi de 468 computadores\n",
      "7\n",
      "496\n",
      "A maior venda de 2013 ocorreu no mês de Agosto e foi de 496 computadores\n",
      "2\n",
      "480\n",
      "A maior venda de 2014 ocorreu no mês de Março e foi de 480 computadores\n",
      "2\n",
      "381\n",
      "A maior venda de 2015 ocorreu no mês de Março e foi de 381 computadores\n",
      "10\n",
      "450\n",
      "A maior venda de 2016 ocorreu no mês de Novembro e foi de 450 computadores\n",
      "8\n",
      "498\n",
      "A maior venda de 2017 ocorreu no mês de Setembro e foi de 498 computadores\n",
      "3\n",
      "461\n",
      "A maior venda de 2018 ocorreu no mês de Abril e foi de 461 computadores\n",
      "5\n",
      "439\n",
      "A maior venda de 2019 ocorreu no mês de Junho e foi de 439 computadores\n",
      "6\n",
      "432\n",
      "A maior venda de 2020 ocorreu no mês de Julho e foi de 432 computadores\n"
     ]
    }
   ],
   "source": [
    "vendas_anos = np.array([[149, 499, 112, 430, 115, 390, 187, 316, 361, 483, 353, 400],\n",
    "[258, 222, 461, 263, 384, 210, 452, 372, 417, 364, 468, 397],\n",
    "[259, 329, 417, 132, 318, 256, 362, 496, 232, 132, 306, 174],\n",
    "[117, 148, 480, 201, 160, 292, 146, 209, 298, 215, 358, 234],\n",
    "[169, 229, 381, 119, 225, 270, 379, 272, 167, 332, 144, 359],\n",
    "[358, 434, 228, 300, 122, 247, 142, 127, 191, 356, 450, 308],\n",
    "[105, 251, 317, 147, 214, 280, 289, 338, 498, 133, 304, 225],\n",
    "[156, 165, 299, 461, 290, 123, 451, 450, 353, 191, 167, 451],\n",
    "[149, 377, 389, 176, 103, 439, 269, 132, 200, 391, 426, 175],\n",
    "[137, 107, 229, 227, 198, 206, 432, 169, 323, 141, 155, 233]])\n",
    "\n",
    "soma_anos = vendas_anos.sum(axis=1)\n",
    "print(soma_anos.shape)\n",
    "print(soma_anos)\n",
    "print(soma_anos.max())\n",
    "print(vendas_anos.max()) #Maior valor de venda de toda a matriz vendas_anos;\n",
    "print(vendas_anos.max(axis=0)) #Maior valor de vendas a cada mês nos 10 anos;\n",
    "print(vendas_anos.max(axis=1)) #Maior valor de vendas a cada ano;\n",
    "\n",
    "anos = np.arange(2011, 2021) #Cria um array com os anos de 2011 até 2020\n",
    "print(anos)\n",
    "print(vendas_anos.argmax(axis=1))\n",
    "meses = list(map(lambda x: datetime.strptime(str(x), \"%m\"), np.arange(1, 13)))\n",
    "meses = list(map(lambda x: x.strftime(\"%B\").title(), meses))\n",
    "\n",
    "for i in range(len(anos)):\n",
    "    indice_max_ano = vendas_anos[i, :].argmax() #calcula o índice do mês de maior venda no anos\n",
    "    print(indice_max_ano)\n",
    "    maior_venda_ano = vendas_anos[i, indice_max_ano] #retorna o maior valor de venda\n",
    "    print(maior_venda_ano)\n",
    "    print(f\"A maior venda de {anos[i]} ocorreu no mês de {meses[indice_max_ano]} e foi de {maior_venda_ano} computadores\")"
   ]
  },
  {
   "cell_type": "code",
   "execution_count": null,
   "id": "09b40b3d",
   "metadata": {},
   "outputs": [],
   "source": []
  }
 ],
 "metadata": {
  "kernelspec": {
   "display_name": "Python 3",
   "language": "python",
   "name": "python3"
  },
  "language_info": {
   "codemirror_mode": {
    "name": "ipython",
    "version": 3
   },
   "file_extension": ".py",
   "mimetype": "text/x-python",
   "name": "python",
   "nbconvert_exporter": "python",
   "pygments_lexer": "ipython3",
   "version": "3.8.8"
  }
 },
 "nbformat": 4,
 "nbformat_minor": 5
}
