{
 "cells": [
  {
   "cell_type": "code",
   "execution_count": 120,
   "id": "ace355aa",
   "metadata": {},
   "outputs": [],
   "source": [
    "import numpy as np"
   ]
  },
  {
   "cell_type": "code",
   "execution_count": 121,
   "id": "918c6b07",
   "metadata": {},
   "outputs": [],
   "source": [
    "visualizacao_stories = [\n",
    "    [187, 120, 88, 70, 130, 168, 213],\n",
    "    [0, 0, 42, 0, 0, 55, 77],\n",
    "    [91, 0, 61, 0, 71, 121, 271],\n",
    "    [0, 0, 0, 0, 187, 0, 0],\n",
    "    [42, 23, 34, 0, 39, 29, 36]\n",
    "]\n",
    "\n",
    "pessoas = ['Raquel', 'Lucas', 'Daniel', 'Natalia', 'Anderson']\n",
    "dias_semana = ['Domingo', 'Segunda', 'Terça', 'Quarta', 'Quinta', 'Sexta', 'Sábado']"
   ]
  },
  {
   "cell_type": "code",
   "execution_count": 122,
   "id": "1cb5464a",
   "metadata": {},
   "outputs": [],
   "source": [
    "def informacoes_visualizacao_stories(contagem_visualizacao_stories):\n",
    "    media_dia_semana = contagem_visualizacao_stories.mean(axis=0)\n",
    "    print('A média de visualizações por dia de todas as pessoas juntas foi de:')\n",
    "    for i in range(len(media_dia_semana)):\n",
    "        print(f'{media_dia_semana[i]} -> {dias_semana[i]}')\n",
    "    soma_stories_por_dia = contagem_visualizacao_stories.sum(axis=0)\n",
    "    dia_maior_stories_somados = soma_stories_por_dia.argmax()\n",
    "    print(f'\\nO dia da semana com o maior número de visualizações de stories somadas foi {dias_semana[dia_maior_stories_somados]}.')\n",
    "    soma_total_semana_pessoa = contagem_visualizacao_stories.sum(axis=1)\n",
    "    pessoa_maior_num_semana = soma_total_semana_pessoa.argmax()\n",
    "    print(f'\\nA pessoa que teve o maior número de visualizações foi {pessoas[pessoa_maior_num_semana]}.')"
   ]
  },
  {
   "cell_type": "code",
   "execution_count": 123,
   "id": "1c73c730",
   "metadata": {},
   "outputs": [
    {
     "name": "stdout",
     "output_type": "stream",
     "text": [
      "A média de visualizações por dia de todas as pessoas juntas foi de:\n",
      "64.0 -> Domingo\n",
      "28.6 -> Segunda\n",
      "45.0 -> Terça\n",
      "14.0 -> Quarta\n",
      "85.4 -> Quinta\n",
      "74.6 -> Sexta\n",
      "119.4 -> Sábado\n",
      "\n",
      "O dia da semana com o maior número de visualizações de stories somadas foi Sábado.\n",
      "\n",
      "A pessoa que teve o maior número de visualizações foi Raquel.\n"
     ]
    }
   ],
   "source": [
    "visualizacao_stories = np.array(visualizacao_stories)\n",
    "informacoes_visualizacao_stories(visualizacao_stories)"
   ]
  },
  {
   "cell_type": "code",
   "execution_count": 124,
   "id": "8ac885f3",
   "metadata": {},
   "outputs": [],
   "source": [
    "visualizacao_stories_invalidos = np.array([\n",
    "    [52, 68, 97, 55, -1, 98, -1],\n",
    "    [53, -1, 38, -1, -1, 72, 49],\n",
    "    [88, -1, 64, -1, 77, 130, 43],\n",
    "    [-1, 30, -1, -1, -1, 182, -1],\n",
    "    [41, 20, 33, -1, 37, 23, 7]\n",
    "])"
   ]
  },
  {
   "cell_type": "code",
   "execution_count": 125,
   "id": "e9968bd3",
   "metadata": {},
   "outputs": [
    {
     "name": "stdout",
     "output_type": "stream",
     "text": [
      "[[ 52  68  97  55   0  98   0]\n",
      " [ 53   0  38   0   0  72  49]\n",
      " [ 88   0  64   0  77 130  43]\n",
      " [  0  30   0   0   0 182   0]\n",
      " [ 41  20  33   0  37  23   7]]\n"
     ]
    }
   ],
   "source": [
    "array_mascarado = np.ma.masked_where(visualizacao_stories_invalidos == -1, visualizacao_stories_invalidos )\n",
    "novo_array_mascarado = array_mascarado.filled(0)\n",
    "print(novo_array_mascarado)"
   ]
  },
  {
   "cell_type": "code",
   "execution_count": 113,
   "id": "c6912a77",
   "metadata": {},
   "outputs": [
    {
     "name": "stdout",
     "output_type": "stream",
     "text": [
      "A média de visualizações por dia de todas as pessoas juntas foi de:\n",
      "110.8 -> Domingo\n",
      "52.2 -> Segunda\n",
      "91.4 -> Terça\n",
      "25.0 -> Quarta\n",
      "108.2 -> Quinta\n",
      "175.6 -> Sexta\n",
      "139.2 -> Sábado\n",
      "\n",
      "O dia da semana com o maior número de visualizações de stories somadas foi Sexta.\n",
      "\n",
      "A pessoa que teve o maior número de visualizações foi Raquel.\n"
     ]
    }
   ],
   "source": [
    "dados_ultimas_duas_semanas = np.add(novo_array_mascarado,visualizacao_stories)\n",
    "informacoes_visualizacao_stories(dados_ultimas_duas_semanas)"
   ]
  }
 ],
 "metadata": {
  "kernelspec": {
   "display_name": "Python 3",
   "language": "python",
   "name": "python3"
  },
  "language_info": {
   "codemirror_mode": {
    "name": "ipython",
    "version": 3
   },
   "file_extension": ".py",
   "mimetype": "text/x-python",
   "name": "python",
   "nbconvert_exporter": "python",
   "pygments_lexer": "ipython3",
   "version": "3.8.8"
  }
 },
 "nbformat": 4,
 "nbformat_minor": 5
}
