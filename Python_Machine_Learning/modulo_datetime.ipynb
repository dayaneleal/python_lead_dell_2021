{
 "cells": [
  {
   "cell_type": "code",
   "execution_count": 9,
   "id": "f3894813",
   "metadata": {},
   "outputs": [
    {
     "name": "stdout",
     "output_type": "stream",
     "text": [
      "[datetime.datetime(2021, 10, 26, 20, 30), datetime.datetime(2021, 10, 27, 20, 30), datetime.datetime(2021, 10, 28, 20, 30), datetime.datetime(2021, 10, 29, 20, 30), datetime.datetime(2021, 10, 30, 20, 30), datetime.datetime(2021, 10, 31, 20, 30), datetime.datetime(2021, 11, 1, 20, 30)]\n"
     ]
    }
   ],
   "source": [
    "from datetime import timedelta,date,datetime\n",
    "inicio = datetime(2021,10,26,20,30)\n",
    "semana = [inicio]\n",
    "\n",
    "for i in range(1,7):\n",
    "    dia_seguinte = inicio + timedelta(days=i)\n",
    "    semana.append(dia_seguinte)\n",
    "    \n",
    "\n",
    "def muda_horario(dia):\n",
    "    if dia.weekday() == 1 or dia.weekday() == 3:\n",
    "        return dia.replace(hour = 21)\n",
    "    else:\n",
    "        return dia\n",
    "    \n",
    "semana_nova = list(map(muda_horario, semana))"
   ]
  },
  {
   "cell_type": "code",
   "execution_count": null,
   "id": "6c10fa03",
   "metadata": {},
   "outputs": [],
   "source": []
  }
 ],
 "metadata": {
  "kernelspec": {
   "display_name": "Python 3",
   "language": "python",
   "name": "python3"
  },
  "language_info": {
   "codemirror_mode": {
    "name": "ipython",
    "version": 3
   },
   "file_extension": ".py",
   "mimetype": "text/x-python",
   "name": "python",
   "nbconvert_exporter": "python",
   "pygments_lexer": "ipython3",
   "version": "3.8.8"
  }
 },
 "nbformat": 4,
 "nbformat_minor": 5
}
